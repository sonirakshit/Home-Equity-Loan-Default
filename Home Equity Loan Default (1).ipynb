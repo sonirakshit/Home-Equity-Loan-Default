{
 "cells": [
  {
   "cell_type": "markdown",
   "id": "8d7f8552",
   "metadata": {},
   "source": [
    "# Home Equity Loan Default "
   ]
  },
  {
   "cell_type": "markdown",
   "id": "f50200a0",
   "metadata": {},
   "source": [
    "The data set HMEQ reports characteristics and delinquency information for 5,960 home equity loans. A home equity loan is a loan where the obligor uses the equity of his or her home as the underlying collateral. The data set has the following characteristics: <br><br>\n",
    "◾ BAD: 1 = applicant defaulted on loan or seriously delinquent; 0 = applicant paid loan <br>\n",
    "◾ LOAN: Amount of the loan request <br>\n",
    "◾ MORTDUE: Amount due on existing mortgage <br>\n",
    "◾ VALUE: Value of current property <br>\n",
    "◾ REASON: DebtCon = debt consolidation; HomeImp = home improvement <br>\n",
    "◾ JOB: Occupational categories <br>\n",
    "◾ YOJ: Years at present job <br>\n",
    "◾ DEROG: Number of major derogatory reports <br>\n",
    "◾ DELINQ: Number of delinquent credit lines <br>\n",
    "◾ CLAGE: Age of oldest credit line in months <br>\n",
    "◾ NINQ: Number of recent credit inquiries <br>\n",
    "◾ CLNO: Number of credit lines <br>\n",
    "◾ DEBTINC: Debt-to-income ratio <br><br>"
   ]
  },
  {
   "cell_type": "code",
   "execution_count": 1,
   "id": "d99a249d",
   "metadata": {},
   "outputs": [],
   "source": [
    "import pandas as pd\n",
    "import numpy as np\n",
    "import matplotlib.pyplot as plt\n",
    "import seaborn as sns\n",
    "%matplotlib inline"
   ]
  },
  {
   "cell_type": "markdown",
   "id": "e4a59ce9",
   "metadata": {},
   "source": [
    "<b> Loading HMEQ Dataset </b>"
   ]
  },
  {
   "cell_type": "code",
   "execution_count": 2,
   "id": "c3c952f5",
   "metadata": {},
   "outputs": [],
   "source": [
    "df = pd.read_csv(\"hmeq.csv\")"
   ]
  },
  {
   "cell_type": "code",
   "execution_count": 3,
   "id": "56412816",
   "metadata": {
    "scrolled": true
   },
   "outputs": [
    {
     "data": {
      "text/html": [
       "<div>\n",
       "<style scoped>\n",
       "    .dataframe tbody tr th:only-of-type {\n",
       "        vertical-align: middle;\n",
       "    }\n",
       "\n",
       "    .dataframe tbody tr th {\n",
       "        vertical-align: top;\n",
       "    }\n",
       "\n",
       "    .dataframe thead th {\n",
       "        text-align: right;\n",
       "    }\n",
       "</style>\n",
       "<table border=\"1\" class=\"dataframe\">\n",
       "  <thead>\n",
       "    <tr style=\"text-align: right;\">\n",
       "      <th></th>\n",
       "      <th>BAD</th>\n",
       "      <th>LOAN</th>\n",
       "      <th>MORTDUE</th>\n",
       "      <th>VALUE</th>\n",
       "      <th>REASON</th>\n",
       "      <th>JOB</th>\n",
       "      <th>YOJ</th>\n",
       "      <th>DEROG</th>\n",
       "      <th>DELINQ</th>\n",
       "      <th>CLAGE</th>\n",
       "      <th>NINQ</th>\n",
       "      <th>CLNO</th>\n",
       "      <th>DEBTINC</th>\n",
       "    </tr>\n",
       "  </thead>\n",
       "  <tbody>\n",
       "    <tr>\n",
       "      <th>0</th>\n",
       "      <td>1</td>\n",
       "      <td>1100</td>\n",
       "      <td>25860.0</td>\n",
       "      <td>39025.0</td>\n",
       "      <td>HomeImp</td>\n",
       "      <td>Other</td>\n",
       "      <td>10.5</td>\n",
       "      <td>0.0</td>\n",
       "      <td>0.0</td>\n",
       "      <td>94.366667</td>\n",
       "      <td>1.0</td>\n",
       "      <td>9.0</td>\n",
       "      <td>NaN</td>\n",
       "    </tr>\n",
       "    <tr>\n",
       "      <th>1</th>\n",
       "      <td>1</td>\n",
       "      <td>1300</td>\n",
       "      <td>70053.0</td>\n",
       "      <td>68400.0</td>\n",
       "      <td>HomeImp</td>\n",
       "      <td>Other</td>\n",
       "      <td>7.0</td>\n",
       "      <td>0.0</td>\n",
       "      <td>2.0</td>\n",
       "      <td>121.833333</td>\n",
       "      <td>0.0</td>\n",
       "      <td>14.0</td>\n",
       "      <td>NaN</td>\n",
       "    </tr>\n",
       "    <tr>\n",
       "      <th>2</th>\n",
       "      <td>1</td>\n",
       "      <td>1500</td>\n",
       "      <td>13500.0</td>\n",
       "      <td>16700.0</td>\n",
       "      <td>HomeImp</td>\n",
       "      <td>Other</td>\n",
       "      <td>4.0</td>\n",
       "      <td>0.0</td>\n",
       "      <td>0.0</td>\n",
       "      <td>149.466667</td>\n",
       "      <td>1.0</td>\n",
       "      <td>10.0</td>\n",
       "      <td>NaN</td>\n",
       "    </tr>\n",
       "    <tr>\n",
       "      <th>3</th>\n",
       "      <td>1</td>\n",
       "      <td>1500</td>\n",
       "      <td>NaN</td>\n",
       "      <td>NaN</td>\n",
       "      <td>NaN</td>\n",
       "      <td>NaN</td>\n",
       "      <td>NaN</td>\n",
       "      <td>NaN</td>\n",
       "      <td>NaN</td>\n",
       "      <td>NaN</td>\n",
       "      <td>NaN</td>\n",
       "      <td>NaN</td>\n",
       "      <td>NaN</td>\n",
       "    </tr>\n",
       "    <tr>\n",
       "      <th>4</th>\n",
       "      <td>0</td>\n",
       "      <td>1700</td>\n",
       "      <td>97800.0</td>\n",
       "      <td>112000.0</td>\n",
       "      <td>HomeImp</td>\n",
       "      <td>Office</td>\n",
       "      <td>3.0</td>\n",
       "      <td>0.0</td>\n",
       "      <td>0.0</td>\n",
       "      <td>93.333333</td>\n",
       "      <td>0.0</td>\n",
       "      <td>14.0</td>\n",
       "      <td>NaN</td>\n",
       "    </tr>\n",
       "    <tr>\n",
       "      <th>5</th>\n",
       "      <td>1</td>\n",
       "      <td>1700</td>\n",
       "      <td>30548.0</td>\n",
       "      <td>40320.0</td>\n",
       "      <td>HomeImp</td>\n",
       "      <td>Other</td>\n",
       "      <td>9.0</td>\n",
       "      <td>0.0</td>\n",
       "      <td>0.0</td>\n",
       "      <td>101.466002</td>\n",
       "      <td>1.0</td>\n",
       "      <td>8.0</td>\n",
       "      <td>37.113614</td>\n",
       "    </tr>\n",
       "    <tr>\n",
       "      <th>6</th>\n",
       "      <td>1</td>\n",
       "      <td>1800</td>\n",
       "      <td>48649.0</td>\n",
       "      <td>57037.0</td>\n",
       "      <td>HomeImp</td>\n",
       "      <td>Other</td>\n",
       "      <td>5.0</td>\n",
       "      <td>3.0</td>\n",
       "      <td>2.0</td>\n",
       "      <td>77.100000</td>\n",
       "      <td>1.0</td>\n",
       "      <td>17.0</td>\n",
       "      <td>NaN</td>\n",
       "    </tr>\n",
       "    <tr>\n",
       "      <th>7</th>\n",
       "      <td>1</td>\n",
       "      <td>1800</td>\n",
       "      <td>28502.0</td>\n",
       "      <td>43034.0</td>\n",
       "      <td>HomeImp</td>\n",
       "      <td>Other</td>\n",
       "      <td>11.0</td>\n",
       "      <td>0.0</td>\n",
       "      <td>0.0</td>\n",
       "      <td>88.766030</td>\n",
       "      <td>0.0</td>\n",
       "      <td>8.0</td>\n",
       "      <td>36.884894</td>\n",
       "    </tr>\n",
       "    <tr>\n",
       "      <th>8</th>\n",
       "      <td>1</td>\n",
       "      <td>2000</td>\n",
       "      <td>32700.0</td>\n",
       "      <td>46740.0</td>\n",
       "      <td>HomeImp</td>\n",
       "      <td>Other</td>\n",
       "      <td>3.0</td>\n",
       "      <td>0.0</td>\n",
       "      <td>2.0</td>\n",
       "      <td>216.933333</td>\n",
       "      <td>1.0</td>\n",
       "      <td>12.0</td>\n",
       "      <td>NaN</td>\n",
       "    </tr>\n",
       "    <tr>\n",
       "      <th>9</th>\n",
       "      <td>1</td>\n",
       "      <td>2000</td>\n",
       "      <td>NaN</td>\n",
       "      <td>62250.0</td>\n",
       "      <td>HomeImp</td>\n",
       "      <td>Sales</td>\n",
       "      <td>16.0</td>\n",
       "      <td>0.0</td>\n",
       "      <td>0.0</td>\n",
       "      <td>115.800000</td>\n",
       "      <td>0.0</td>\n",
       "      <td>13.0</td>\n",
       "      <td>NaN</td>\n",
       "    </tr>\n",
       "  </tbody>\n",
       "</table>\n",
       "</div>"
      ],
      "text/plain": [
       "   BAD  LOAN  MORTDUE     VALUE   REASON     JOB   YOJ  DEROG  DELINQ  \\\n",
       "0    1  1100  25860.0   39025.0  HomeImp   Other  10.5    0.0     0.0   \n",
       "1    1  1300  70053.0   68400.0  HomeImp   Other   7.0    0.0     2.0   \n",
       "2    1  1500  13500.0   16700.0  HomeImp   Other   4.0    0.0     0.0   \n",
       "3    1  1500      NaN       NaN      NaN     NaN   NaN    NaN     NaN   \n",
       "4    0  1700  97800.0  112000.0  HomeImp  Office   3.0    0.0     0.0   \n",
       "5    1  1700  30548.0   40320.0  HomeImp   Other   9.0    0.0     0.0   \n",
       "6    1  1800  48649.0   57037.0  HomeImp   Other   5.0    3.0     2.0   \n",
       "7    1  1800  28502.0   43034.0  HomeImp   Other  11.0    0.0     0.0   \n",
       "8    1  2000  32700.0   46740.0  HomeImp   Other   3.0    0.0     2.0   \n",
       "9    1  2000      NaN   62250.0  HomeImp   Sales  16.0    0.0     0.0   \n",
       "\n",
       "        CLAGE  NINQ  CLNO    DEBTINC  \n",
       "0   94.366667   1.0   9.0        NaN  \n",
       "1  121.833333   0.0  14.0        NaN  \n",
       "2  149.466667   1.0  10.0        NaN  \n",
       "3         NaN   NaN   NaN        NaN  \n",
       "4   93.333333   0.0  14.0        NaN  \n",
       "5  101.466002   1.0   8.0  37.113614  \n",
       "6   77.100000   1.0  17.0        NaN  \n",
       "7   88.766030   0.0   8.0  36.884894  \n",
       "8  216.933333   1.0  12.0        NaN  \n",
       "9  115.800000   0.0  13.0        NaN  "
      ]
     },
     "execution_count": 3,
     "metadata": {},
     "output_type": "execute_result"
    }
   ],
   "source": [
    "df.head(10)"
   ]
  },
  {
   "cell_type": "markdown",
   "id": "81ff786e",
   "metadata": {},
   "source": [
    "<b> Exploratory Data Analysis </b>"
   ]
  },
  {
   "cell_type": "code",
   "execution_count": 4,
   "id": "ce3940ff",
   "metadata": {
    "scrolled": true
   },
   "outputs": [
    {
     "name": "stdout",
     "output_type": "stream",
     "text": [
      "<class 'pandas.core.frame.DataFrame'>\n",
      "RangeIndex: 5960 entries, 0 to 5959\n",
      "Data columns (total 13 columns):\n",
      " #   Column   Non-Null Count  Dtype  \n",
      "---  ------   --------------  -----  \n",
      " 0   BAD      5960 non-null   int64  \n",
      " 1   LOAN     5960 non-null   int64  \n",
      " 2   MORTDUE  5442 non-null   float64\n",
      " 3   VALUE    5848 non-null   float64\n",
      " 4   REASON   5708 non-null   object \n",
      " 5   JOB      5681 non-null   object \n",
      " 6   YOJ      5445 non-null   float64\n",
      " 7   DEROG    5252 non-null   float64\n",
      " 8   DELINQ   5380 non-null   float64\n",
      " 9   CLAGE    5652 non-null   float64\n",
      " 10  NINQ     5450 non-null   float64\n",
      " 11  CLNO     5738 non-null   float64\n",
      " 12  DEBTINC  4693 non-null   float64\n",
      "dtypes: float64(9), int64(2), object(2)\n",
      "memory usage: 605.4+ KB\n"
     ]
    }
   ],
   "source": [
    "df.info()"
   ]
  },
  {
   "cell_type": "code",
   "execution_count": 5,
   "id": "292a3474",
   "metadata": {},
   "outputs": [
    {
     "data": {
      "text/plain": [
       "BAD           0\n",
       "LOAN          0\n",
       "MORTDUE     518\n",
       "VALUE       112\n",
       "REASON      252\n",
       "JOB         279\n",
       "YOJ         515\n",
       "DEROG       708\n",
       "DELINQ      580\n",
       "CLAGE       308\n",
       "NINQ        510\n",
       "CLNO        222\n",
       "DEBTINC    1267\n",
       "dtype: int64"
      ]
     },
     "execution_count": 5,
     "metadata": {},
     "output_type": "execute_result"
    }
   ],
   "source": [
    "df.isnull().sum()"
   ]
  },
  {
   "cell_type": "code",
   "execution_count": 6,
   "id": "967bff97",
   "metadata": {},
   "outputs": [
    {
     "data": {
      "text/html": [
       "<div>\n",
       "<style scoped>\n",
       "    .dataframe tbody tr th:only-of-type {\n",
       "        vertical-align: middle;\n",
       "    }\n",
       "\n",
       "    .dataframe tbody tr th {\n",
       "        vertical-align: top;\n",
       "    }\n",
       "\n",
       "    .dataframe thead th {\n",
       "        text-align: right;\n",
       "    }\n",
       "</style>\n",
       "<table border=\"1\" class=\"dataframe\">\n",
       "  <thead>\n",
       "    <tr style=\"text-align: right;\">\n",
       "      <th></th>\n",
       "      <th>BAD</th>\n",
       "      <th>LOAN</th>\n",
       "      <th>MORTDUE</th>\n",
       "      <th>VALUE</th>\n",
       "      <th>YOJ</th>\n",
       "      <th>DEROG</th>\n",
       "      <th>DELINQ</th>\n",
       "      <th>CLAGE</th>\n",
       "      <th>NINQ</th>\n",
       "      <th>CLNO</th>\n",
       "      <th>DEBTINC</th>\n",
       "    </tr>\n",
       "  </thead>\n",
       "  <tbody>\n",
       "    <tr>\n",
       "      <th>count</th>\n",
       "      <td>5960.000000</td>\n",
       "      <td>5960.000000</td>\n",
       "      <td>5442.000000</td>\n",
       "      <td>5848.000000</td>\n",
       "      <td>5445.000000</td>\n",
       "      <td>5252.000000</td>\n",
       "      <td>5380.000000</td>\n",
       "      <td>5652.000000</td>\n",
       "      <td>5450.000000</td>\n",
       "      <td>5738.000000</td>\n",
       "      <td>4693.000000</td>\n",
       "    </tr>\n",
       "    <tr>\n",
       "      <th>mean</th>\n",
       "      <td>0.199497</td>\n",
       "      <td>18607.969799</td>\n",
       "      <td>73760.817200</td>\n",
       "      <td>101776.048741</td>\n",
       "      <td>8.922268</td>\n",
       "      <td>0.254570</td>\n",
       "      <td>0.449442</td>\n",
       "      <td>179.766275</td>\n",
       "      <td>1.186055</td>\n",
       "      <td>21.296096</td>\n",
       "      <td>33.779915</td>\n",
       "    </tr>\n",
       "    <tr>\n",
       "      <th>std</th>\n",
       "      <td>0.399656</td>\n",
       "      <td>11207.480417</td>\n",
       "      <td>44457.609458</td>\n",
       "      <td>57385.775334</td>\n",
       "      <td>7.573982</td>\n",
       "      <td>0.846047</td>\n",
       "      <td>1.127266</td>\n",
       "      <td>85.810092</td>\n",
       "      <td>1.728675</td>\n",
       "      <td>10.138933</td>\n",
       "      <td>8.601746</td>\n",
       "    </tr>\n",
       "    <tr>\n",
       "      <th>min</th>\n",
       "      <td>0.000000</td>\n",
       "      <td>1100.000000</td>\n",
       "      <td>2063.000000</td>\n",
       "      <td>8000.000000</td>\n",
       "      <td>0.000000</td>\n",
       "      <td>0.000000</td>\n",
       "      <td>0.000000</td>\n",
       "      <td>0.000000</td>\n",
       "      <td>0.000000</td>\n",
       "      <td>0.000000</td>\n",
       "      <td>0.524499</td>\n",
       "    </tr>\n",
       "    <tr>\n",
       "      <th>25%</th>\n",
       "      <td>0.000000</td>\n",
       "      <td>11100.000000</td>\n",
       "      <td>46276.000000</td>\n",
       "      <td>66075.500000</td>\n",
       "      <td>3.000000</td>\n",
       "      <td>0.000000</td>\n",
       "      <td>0.000000</td>\n",
       "      <td>115.116702</td>\n",
       "      <td>0.000000</td>\n",
       "      <td>15.000000</td>\n",
       "      <td>29.140031</td>\n",
       "    </tr>\n",
       "    <tr>\n",
       "      <th>50%</th>\n",
       "      <td>0.000000</td>\n",
       "      <td>16300.000000</td>\n",
       "      <td>65019.000000</td>\n",
       "      <td>89235.500000</td>\n",
       "      <td>7.000000</td>\n",
       "      <td>0.000000</td>\n",
       "      <td>0.000000</td>\n",
       "      <td>173.466667</td>\n",
       "      <td>1.000000</td>\n",
       "      <td>20.000000</td>\n",
       "      <td>34.818262</td>\n",
       "    </tr>\n",
       "    <tr>\n",
       "      <th>75%</th>\n",
       "      <td>0.000000</td>\n",
       "      <td>23300.000000</td>\n",
       "      <td>91488.000000</td>\n",
       "      <td>119824.250000</td>\n",
       "      <td>13.000000</td>\n",
       "      <td>0.000000</td>\n",
       "      <td>0.000000</td>\n",
       "      <td>231.562278</td>\n",
       "      <td>2.000000</td>\n",
       "      <td>26.000000</td>\n",
       "      <td>39.003141</td>\n",
       "    </tr>\n",
       "    <tr>\n",
       "      <th>max</th>\n",
       "      <td>1.000000</td>\n",
       "      <td>89900.000000</td>\n",
       "      <td>399550.000000</td>\n",
       "      <td>855909.000000</td>\n",
       "      <td>41.000000</td>\n",
       "      <td>10.000000</td>\n",
       "      <td>15.000000</td>\n",
       "      <td>1168.233561</td>\n",
       "      <td>17.000000</td>\n",
       "      <td>71.000000</td>\n",
       "      <td>203.312149</td>\n",
       "    </tr>\n",
       "  </tbody>\n",
       "</table>\n",
       "</div>"
      ],
      "text/plain": [
       "               BAD          LOAN        MORTDUE          VALUE          YOJ  \\\n",
       "count  5960.000000   5960.000000    5442.000000    5848.000000  5445.000000   \n",
       "mean      0.199497  18607.969799   73760.817200  101776.048741     8.922268   \n",
       "std       0.399656  11207.480417   44457.609458   57385.775334     7.573982   \n",
       "min       0.000000   1100.000000    2063.000000    8000.000000     0.000000   \n",
       "25%       0.000000  11100.000000   46276.000000   66075.500000     3.000000   \n",
       "50%       0.000000  16300.000000   65019.000000   89235.500000     7.000000   \n",
       "75%       0.000000  23300.000000   91488.000000  119824.250000    13.000000   \n",
       "max       1.000000  89900.000000  399550.000000  855909.000000    41.000000   \n",
       "\n",
       "             DEROG       DELINQ        CLAGE         NINQ         CLNO  \\\n",
       "count  5252.000000  5380.000000  5652.000000  5450.000000  5738.000000   \n",
       "mean      0.254570     0.449442   179.766275     1.186055    21.296096   \n",
       "std       0.846047     1.127266    85.810092     1.728675    10.138933   \n",
       "min       0.000000     0.000000     0.000000     0.000000     0.000000   \n",
       "25%       0.000000     0.000000   115.116702     0.000000    15.000000   \n",
       "50%       0.000000     0.000000   173.466667     1.000000    20.000000   \n",
       "75%       0.000000     0.000000   231.562278     2.000000    26.000000   \n",
       "max      10.000000    15.000000  1168.233561    17.000000    71.000000   \n",
       "\n",
       "           DEBTINC  \n",
       "count  4693.000000  \n",
       "mean     33.779915  \n",
       "std       8.601746  \n",
       "min       0.524499  \n",
       "25%      29.140031  \n",
       "50%      34.818262  \n",
       "75%      39.003141  \n",
       "max     203.312149  "
      ]
     },
     "execution_count": 6,
     "metadata": {},
     "output_type": "execute_result"
    }
   ],
   "source": [
    "df.describe()"
   ]
  },
  {
   "cell_type": "code",
   "execution_count": 7,
   "id": "c08e1d74",
   "metadata": {
    "scrolled": true
   },
   "outputs": [
    {
     "data": {
      "image/png": "[encoded data removed]",
      "text/plain": [
       "<Figure size 600x300 with 1 Axes>"
      ]
     },
     "metadata": {},
     "output_type": "display_data"
    }
   ],
   "source": [
    "plt.figure(figsize=(6,3))\n",
    "sns.countplot(x= 'BAD' , data = df)\n",
    "plt.show()"
   ]
  },
  {
   "cell_type": "code",
   "execution_count": 8,
   "id": "21d0296d",
   "metadata": {},
   "outputs": [
    {
     "name": "stderr",
     "output_type": "stream",
     "text": [
      "C:\\Users\\ASUS\\anaconda3\\lib\\site-packages\\seaborn\\distributions.py:2619: FutureWarning: `distplot` is a deprecated function and will be removed in a future version. Please adapt your code to use either `displot` (a figure-level function with similar flexibility) or `histplot` (an axes-level function for histograms).\n",
      "  warnings.warn(msg, FutureWarning)\n"
     ]
    },
    {
     "data": {
      "text/plain": [
       "<AxesSubplot:ylabel='Density'>"
      ]
     },
     "execution_count": 8,
     "metadata": {},
     "output_type": "execute_result"
    },
    {
     "data": {
      "image/png": "[encoded data removed]",
      "text/plain": [
       "<Figure size 1600x500 with 1 Axes>"
      ]
     },
     "metadata": {},
     "output_type": "display_data"
    }
   ],
   "source": [
    "plt.figure(figsize=(16,5))\n",
    "Loan_request = df['LOAN'].values\n",
    "sns.distplot(Loan_request, color='red')\n"
   ]
  },
  {
   "cell_type": "markdown",
   "id": "9f70177e",
   "metadata": {},
   "source": [
    "<b>Categorical variables</b>"
   ]
  },
  {
   "cell_type": "code",
   "execution_count": 9,
   "id": "570349b9",
   "metadata": {},
   "outputs": [],
   "source": [
    "df.loc[df.BAD == 1, 'STATUS'] = 'DEFAULT'\n",
    "df.loc[df.BAD == 0, 'STATUS'] = 'PAID'"
   ]
  },
  {
   "cell_type": "code",
   "execution_count": 10,
   "id": "beb4a149",
   "metadata": {},
   "outputs": [
    {
     "data": {
      "text/html": [
       "<style type=\"text/css\">\n",
       "</style>\n",
       "<table id=\"T_859fd\">\n",
       "  <thead>\n",
       "    <tr>\n",
       "      <th class=\"blank\" >&nbsp;</th>\n",
       "      <th class=\"blank level0\" >&nbsp;</th>\n",
       "      <th id=\"T_859fd_level0_col0\" class=\"col_heading level0 col0\" >STATUS</th>\n",
       "    </tr>\n",
       "    <tr>\n",
       "      <th class=\"index_name level0\" >REASON</th>\n",
       "      <th class=\"index_name level1\" >STATUS</th>\n",
       "      <th class=\"blank col0\" >&nbsp;</th>\n",
       "    </tr>\n",
       "  </thead>\n",
       "  <tbody>\n",
       "    <tr>\n",
       "      <th id=\"T_859fd_level0_row0\" class=\"row_heading level0 row0\" rowspan=\"2\">DebtCon</th>\n",
       "      <th id=\"T_859fd_level1_row0\" class=\"row_heading level1 row0\" >PAID</th>\n",
       "      <td id=\"T_859fd_row0_col0\" class=\"data row0 col0\" >81.0%</td>\n",
       "    </tr>\n",
       "    <tr>\n",
       "      <th id=\"T_859fd_level1_row1\" class=\"row_heading level1 row1\" >DEFAULT</th>\n",
       "      <td id=\"T_859fd_row1_col0\" class=\"data row1 col0\" >19.0%</td>\n",
       "    </tr>\n",
       "    <tr>\n",
       "      <th id=\"T_859fd_level0_row2\" class=\"row_heading level0 row2\" rowspan=\"2\">HomeImp</th>\n",
       "      <th id=\"T_859fd_level1_row2\" class=\"row_heading level1 row2\" >PAID</th>\n",
       "      <td id=\"T_859fd_row2_col0\" class=\"data row2 col0\" >77.8%</td>\n",
       "    </tr>\n",
       "    <tr>\n",
       "      <th id=\"T_859fd_level1_row3\" class=\"row_heading level1 row3\" >DEFAULT</th>\n",
       "      <td id=\"T_859fd_row3_col0\" class=\"data row3 col0\" >22.2%</td>\n",
       "    </tr>\n",
       "  </tbody>\n",
       "</table>\n"
      ],
      "text/plain": [
       "<pandas.io.formats.style.Styler at 0x1a7dda31af0>"
      ]
     },
     "execution_count": 10,
     "metadata": {},
     "output_type": "execute_result"
    }
   ],
   "source": [
    "g = df.groupby('REASON')\n",
    "g['STATUS'].value_counts(normalize=True).to_frame().style.format(\"{:.1%}\")"
   ]
  },
  {
   "cell_type": "code",
   "execution_count": 11,
   "id": "9032a95e",
   "metadata": {},
   "outputs": [
    {
     "data": {
      "text/html": [
       "<style type=\"text/css\">\n",
       "</style>\n",
       "<table id=\"T_a077a\">\n",
       "  <thead>\n",
       "    <tr>\n",
       "      <th class=\"blank\" >&nbsp;</th>\n",
       "      <th class=\"blank level0\" >&nbsp;</th>\n",
       "      <th id=\"T_a077a_level0_col0\" class=\"col_heading level0 col0\" >STATUS</th>\n",
       "    </tr>\n",
       "    <tr>\n",
       "      <th class=\"index_name level0\" >JOB</th>\n",
       "      <th class=\"index_name level1\" >STATUS</th>\n",
       "      <th class=\"blank col0\" >&nbsp;</th>\n",
       "    </tr>\n",
       "  </thead>\n",
       "  <tbody>\n",
       "    <tr>\n",
       "      <th id=\"T_a077a_level0_row0\" class=\"row_heading level0 row0\" rowspan=\"2\">Mgr</th>\n",
       "      <th id=\"T_a077a_level1_row0\" class=\"row_heading level1 row0\" >PAID</th>\n",
       "      <td id=\"T_a077a_row0_col0\" class=\"data row0 col0\" >76.7%</td>\n",
       "    </tr>\n",
       "    <tr>\n",
       "      <th id=\"T_a077a_level1_row1\" class=\"row_heading level1 row1\" >DEFAULT</th>\n",
       "      <td id=\"T_a077a_row1_col0\" class=\"data row1 col0\" >23.3%</td>\n",
       "    </tr>\n",
       "    <tr>\n",
       "      <th id=\"T_a077a_level0_row2\" class=\"row_heading level0 row2\" rowspan=\"2\">Office</th>\n",
       "      <th id=\"T_a077a_level1_row2\" class=\"row_heading level1 row2\" >PAID</th>\n",
       "      <td id=\"T_a077a_row2_col0\" class=\"data row2 col0\" >86.8%</td>\n",
       "    </tr>\n",
       "    <tr>\n",
       "      <th id=\"T_a077a_level1_row3\" class=\"row_heading level1 row3\" >DEFAULT</th>\n",
       "      <td id=\"T_a077a_row3_col0\" class=\"data row3 col0\" >13.2%</td>\n",
       "    </tr>\n",
       "    <tr>\n",
       "      <th id=\"T_a077a_level0_row4\" class=\"row_heading level0 row4\" rowspan=\"2\">Other</th>\n",
       "      <th id=\"T_a077a_level1_row4\" class=\"row_heading level1 row4\" >PAID</th>\n",
       "      <td id=\"T_a077a_row4_col0\" class=\"data row4 col0\" >76.8%</td>\n",
       "    </tr>\n",
       "    <tr>\n",
       "      <th id=\"T_a077a_level1_row5\" class=\"row_heading level1 row5\" >DEFAULT</th>\n",
       "      <td id=\"T_a077a_row5_col0\" class=\"data row5 col0\" >23.2%</td>\n",
       "    </tr>\n",
       "    <tr>\n",
       "      <th id=\"T_a077a_level0_row6\" class=\"row_heading level0 row6\" rowspan=\"2\">ProfExe</th>\n",
       "      <th id=\"T_a077a_level1_row6\" class=\"row_heading level1 row6\" >PAID</th>\n",
       "      <td id=\"T_a077a_row6_col0\" class=\"data row6 col0\" >83.4%</td>\n",
       "    </tr>\n",
       "    <tr>\n",
       "      <th id=\"T_a077a_level1_row7\" class=\"row_heading level1 row7\" >DEFAULT</th>\n",
       "      <td id=\"T_a077a_row7_col0\" class=\"data row7 col0\" >16.6%</td>\n",
       "    </tr>\n",
       "    <tr>\n",
       "      <th id=\"T_a077a_level0_row8\" class=\"row_heading level0 row8\" rowspan=\"2\">Sales</th>\n",
       "      <th id=\"T_a077a_level1_row8\" class=\"row_heading level1 row8\" >PAID</th>\n",
       "      <td id=\"T_a077a_row8_col0\" class=\"data row8 col0\" >65.1%</td>\n",
       "    </tr>\n",
       "    <tr>\n",
       "      <th id=\"T_a077a_level1_row9\" class=\"row_heading level1 row9\" >DEFAULT</th>\n",
       "      <td id=\"T_a077a_row9_col0\" class=\"data row9 col0\" >34.9%</td>\n",
       "    </tr>\n",
       "    <tr>\n",
       "      <th id=\"T_a077a_level0_row10\" class=\"row_heading level0 row10\" rowspan=\"2\">Self</th>\n",
       "      <th id=\"T_a077a_level1_row10\" class=\"row_heading level1 row10\" >PAID</th>\n",
       "      <td id=\"T_a077a_row10_col0\" class=\"data row10 col0\" >69.9%</td>\n",
       "    </tr>\n",
       "    <tr>\n",
       "      <th id=\"T_a077a_level1_row11\" class=\"row_heading level1 row11\" >DEFAULT</th>\n",
       "      <td id=\"T_a077a_row11_col0\" class=\"data row11 col0\" >30.1%</td>\n",
       "    </tr>\n",
       "  </tbody>\n",
       "</table>\n"
      ],
      "text/plain": [
       "<pandas.io.formats.style.Styler at 0x1a7de4b2220>"
      ]
     },
     "execution_count": 11,
     "metadata": {},
     "output_type": "execute_result"
    }
   ],
   "source": [
    "g = df.groupby('JOB')\n",
    "g['STATUS'].value_counts(normalize=True).to_frame().style.format(\"{:.1%}\")"
   ]
  },
  {
   "cell_type": "markdown",
   "id": "7cc39365",
   "metadata": {},
   "source": [
    "<b>Correlation between variables</b>"
   ]
  },
  {
   "cell_type": "code",
   "execution_count": 12,
   "id": "b3ddcddb",
   "metadata": {},
   "outputs": [
    {
     "data": {
      "text/html": [
       "<div>\n",
       "<style scoped>\n",
       "    .dataframe tbody tr th:only-of-type {\n",
       "        vertical-align: middle;\n",
       "    }\n",
       "\n",
       "    .dataframe tbody tr th {\n",
       "        vertical-align: top;\n",
       "    }\n",
       "\n",
       "    .dataframe thead th {\n",
       "        text-align: right;\n",
       "    }\n",
       "</style>\n",
       "<table border=\"1\" class=\"dataframe\">\n",
       "  <thead>\n",
       "    <tr style=\"text-align: right;\">\n",
       "      <th></th>\n",
       "      <th>BAD</th>\n",
       "      <th>LOAN</th>\n",
       "      <th>MORTDUE</th>\n",
       "      <th>VALUE</th>\n",
       "      <th>YOJ</th>\n",
       "      <th>DEROG</th>\n",
       "      <th>DELINQ</th>\n",
       "      <th>CLAGE</th>\n",
       "      <th>NINQ</th>\n",
       "      <th>CLNO</th>\n",
       "      <th>DEBTINC</th>\n",
       "    </tr>\n",
       "  </thead>\n",
       "  <tbody>\n",
       "    <tr>\n",
       "      <th>BAD</th>\n",
       "      <td>1.000000</td>\n",
       "      <td>-0.075099</td>\n",
       "      <td>-0.048219</td>\n",
       "      <td>-0.029954</td>\n",
       "      <td>-0.060238</td>\n",
       "      <td>0.276081</td>\n",
       "      <td>0.354107</td>\n",
       "      <td>-0.170499</td>\n",
       "      <td>0.174980</td>\n",
       "      <td>-0.004157</td>\n",
       "      <td>0.199835</td>\n",
       "    </tr>\n",
       "    <tr>\n",
       "      <th>LOAN</th>\n",
       "      <td>-0.075099</td>\n",
       "      <td>1.000000</td>\n",
       "      <td>0.228595</td>\n",
       "      <td>0.335393</td>\n",
       "      <td>0.105728</td>\n",
       "      <td>-0.001302</td>\n",
       "      <td>-0.035144</td>\n",
       "      <td>0.088540</td>\n",
       "      <td>0.044487</td>\n",
       "      <td>0.072631</td>\n",
       "      <td>0.084735</td>\n",
       "    </tr>\n",
       "    <tr>\n",
       "      <th>MORTDUE</th>\n",
       "      <td>-0.048219</td>\n",
       "      <td>0.228595</td>\n",
       "      <td>1.000000</td>\n",
       "      <td>0.875666</td>\n",
       "      <td>-0.088480</td>\n",
       "      <td>-0.049516</td>\n",
       "      <td>-0.001044</td>\n",
       "      <td>0.140047</td>\n",
       "      <td>0.031392</td>\n",
       "      <td>0.323631</td>\n",
       "      <td>0.154939</td>\n",
       "    </tr>\n",
       "    <tr>\n",
       "      <th>VALUE</th>\n",
       "      <td>-0.029954</td>\n",
       "      <td>0.335393</td>\n",
       "      <td>0.875666</td>\n",
       "      <td>1.000000</td>\n",
       "      <td>0.007759</td>\n",
       "      <td>-0.048689</td>\n",
       "      <td>-0.014103</td>\n",
       "      <td>0.171238</td>\n",
       "      <td>-0.004398</td>\n",
       "      <td>0.269149</td>\n",
       "      <td>0.132174</td>\n",
       "    </tr>\n",
       "    <tr>\n",
       "      <th>YOJ</th>\n",
       "      <td>-0.060238</td>\n",
       "      <td>0.105728</td>\n",
       "      <td>-0.088480</td>\n",
       "      <td>0.007759</td>\n",
       "      <td>1.000000</td>\n",
       "      <td>-0.065879</td>\n",
       "      <td>0.038153</td>\n",
       "      <td>0.201718</td>\n",
       "      <td>-0.071627</td>\n",
       "      <td>0.024838</td>\n",
       "      <td>-0.055891</td>\n",
       "    </tr>\n",
       "    <tr>\n",
       "      <th>DEROG</th>\n",
       "      <td>0.276081</td>\n",
       "      <td>-0.001302</td>\n",
       "      <td>-0.049516</td>\n",
       "      <td>-0.048689</td>\n",
       "      <td>-0.065879</td>\n",
       "      <td>1.000000</td>\n",
       "      <td>0.211832</td>\n",
       "      <td>-0.083047</td>\n",
       "      <td>0.173934</td>\n",
       "      <td>0.061884</td>\n",
       "      <td>0.017065</td>\n",
       "    </tr>\n",
       "    <tr>\n",
       "      <th>DELINQ</th>\n",
       "      <td>0.354107</td>\n",
       "      <td>-0.035144</td>\n",
       "      <td>-0.001044</td>\n",
       "      <td>-0.014103</td>\n",
       "      <td>0.038153</td>\n",
       "      <td>0.211832</td>\n",
       "      <td>1.000000</td>\n",
       "      <td>0.022488</td>\n",
       "      <td>0.067812</td>\n",
       "      <td>0.164639</td>\n",
       "      <td>0.052364</td>\n",
       "    </tr>\n",
       "    <tr>\n",
       "      <th>CLAGE</th>\n",
       "      <td>-0.170499</td>\n",
       "      <td>0.088540</td>\n",
       "      <td>0.140047</td>\n",
       "      <td>0.171238</td>\n",
       "      <td>0.201718</td>\n",
       "      <td>-0.083047</td>\n",
       "      <td>0.022488</td>\n",
       "      <td>1.000000</td>\n",
       "      <td>-0.116935</td>\n",
       "      <td>0.237987</td>\n",
       "      <td>-0.046477</td>\n",
       "    </tr>\n",
       "    <tr>\n",
       "      <th>NINQ</th>\n",
       "      <td>0.174980</td>\n",
       "      <td>0.044487</td>\n",
       "      <td>0.031392</td>\n",
       "      <td>-0.004398</td>\n",
       "      <td>-0.071627</td>\n",
       "      <td>0.173934</td>\n",
       "      <td>0.067812</td>\n",
       "      <td>-0.116935</td>\n",
       "      <td>1.000000</td>\n",
       "      <td>0.088389</td>\n",
       "      <td>0.141344</td>\n",
       "    </tr>\n",
       "    <tr>\n",
       "      <th>CLNO</th>\n",
       "      <td>-0.004157</td>\n",
       "      <td>0.072631</td>\n",
       "      <td>0.323631</td>\n",
       "      <td>0.269149</td>\n",
       "      <td>0.024838</td>\n",
       "      <td>0.061884</td>\n",
       "      <td>0.164639</td>\n",
       "      <td>0.237987</td>\n",
       "      <td>0.088389</td>\n",
       "      <td>1.000000</td>\n",
       "      <td>0.185539</td>\n",
       "    </tr>\n",
       "    <tr>\n",
       "      <th>DEBTINC</th>\n",
       "      <td>0.199835</td>\n",
       "      <td>0.084735</td>\n",
       "      <td>0.154939</td>\n",
       "      <td>0.132174</td>\n",
       "      <td>-0.055891</td>\n",
       "      <td>0.017065</td>\n",
       "      <td>0.052364</td>\n",
       "      <td>-0.046477</td>\n",
       "      <td>0.141344</td>\n",
       "      <td>0.185539</td>\n",
       "      <td>1.000000</td>\n",
       "    </tr>\n",
       "  </tbody>\n",
       "</table>\n",
       "</div>"
      ],
      "text/plain": [
       "              BAD      LOAN   MORTDUE     VALUE       YOJ     DEROG    DELINQ  \\\n",
       "BAD      1.000000 -0.075099 -0.048219 -0.029954 -0.060238  0.276081  0.354107   \n",
       "LOAN    -0.075099  1.000000  0.228595  0.335393  0.105728 -0.001302 -0.035144   \n",
       "MORTDUE -0.048219  0.228595  1.000000  0.875666 -0.088480 -0.049516 -0.001044   \n",
       "VALUE   -0.029954  0.335393  0.875666  1.000000  0.007759 -0.048689 -0.014103   \n",
       "YOJ     -0.060238  0.105728 -0.088480  0.007759  1.000000 -0.065879  0.038153   \n",
       "DEROG    0.276081 -0.001302 -0.049516 -0.048689 -0.065879  1.000000  0.211832   \n",
       "DELINQ   0.354107 -0.035144 -0.001044 -0.014103  0.038153  0.211832  1.000000   \n",
       "CLAGE   -0.170499  0.088540  0.140047  0.171238  0.201718 -0.083047  0.022488   \n",
       "NINQ     0.174980  0.044487  0.031392 -0.004398 -0.071627  0.173934  0.067812   \n",
       "CLNO    -0.004157  0.072631  0.323631  0.269149  0.024838  0.061884  0.164639   \n",
       "DEBTINC  0.199835  0.084735  0.154939  0.132174 -0.055891  0.017065  0.052364   \n",
       "\n",
       "            CLAGE      NINQ      CLNO   DEBTINC  \n",
       "BAD     -0.170499  0.174980 -0.004157  0.199835  \n",
       "LOAN     0.088540  0.044487  0.072631  0.084735  \n",
       "MORTDUE  0.140047  0.031392  0.323631  0.154939  \n",
       "VALUE    0.171238 -0.004398  0.269149  0.132174  \n",
       "YOJ      0.201718 -0.071627  0.024838 -0.055891  \n",
       "DEROG   -0.083047  0.173934  0.061884  0.017065  \n",
       "DELINQ   0.022488  0.067812  0.164639  0.052364  \n",
       "CLAGE    1.000000 -0.116935  0.237987 -0.046477  \n",
       "NINQ    -0.116935  1.000000  0.088389  0.141344  \n",
       "CLNO     0.237987  0.088389  1.000000  0.185539  \n",
       "DEBTINC -0.046477  0.141344  0.185539  1.000000  "
      ]
     },
     "execution_count": 12,
     "metadata": {},
     "output_type": "execute_result"
    }
   ],
   "source": [
    "variables = ['BAD','LOAN','MORTDUE','VALUE','YOJ','DEROG','DELINQ','CLAGE','NINQ','CLNO','DEBTINC']\n",
    "df_corr = df[variables].corr()\n",
    "df_corr"
   ]
  },
  {
   "cell_type": "code",
   "execution_count": 13,
   "id": "10fbca1e",
   "metadata": {},
   "outputs": [
    {
     "data": {
      "image/png": "[encoded data removed]",
      "text/plain": [
       "<Figure size 800x800 with 2 Axes>"
      ]
     },
     "metadata": {},
     "output_type": "display_data"
    }
   ],
   "source": [
    "plt.figure(figsize=(8,8))\n",
    "sns.heatmap(df_corr, cmap='Reds',annot=True)\n",
    "plt.show()"
   ]
  },
  {
   "cell_type": "markdown",
   "id": "28f0b7ea",
   "metadata": {},
   "source": [
    "<b>Dealing with missing values</b>"
   ]
  },
  {
   "cell_type": "code",
   "execution_count": 14,
   "id": "8f9aa1b7",
   "metadata": {},
   "outputs": [],
   "source": [
    "new_df = df.interpolate()"
   ]
  },
  {
   "cell_type": "code",
   "execution_count": 15,
   "id": "f1232db6",
   "metadata": {},
   "outputs": [
    {
     "data": {
      "text/html": [
       "<div>\n",
       "<style scoped>\n",
       "    .dataframe tbody tr th:only-of-type {\n",
       "        vertical-align: middle;\n",
       "    }\n",
       "\n",
       "    .dataframe tbody tr th {\n",
       "        vertical-align: top;\n",
       "    }\n",
       "\n",
       "    .dataframe thead th {\n",
       "        text-align: right;\n",
       "    }\n",
       "</style>\n",
       "<table border=\"1\" class=\"dataframe\">\n",
       "  <thead>\n",
       "    <tr style=\"text-align: right;\">\n",
       "      <th></th>\n",
       "      <th>BAD</th>\n",
       "      <th>LOAN</th>\n",
       "      <th>MORTDUE</th>\n",
       "      <th>VALUE</th>\n",
       "      <th>REASON</th>\n",
       "      <th>JOB</th>\n",
       "      <th>YOJ</th>\n",
       "      <th>DEROG</th>\n",
       "      <th>DELINQ</th>\n",
       "      <th>CLAGE</th>\n",
       "      <th>NINQ</th>\n",
       "      <th>CLNO</th>\n",
       "      <th>DEBTINC</th>\n",
       "      <th>STATUS</th>\n",
       "    </tr>\n",
       "  </thead>\n",
       "  <tbody>\n",
       "    <tr>\n",
       "      <th>0</th>\n",
       "      <td>1</td>\n",
       "      <td>1100</td>\n",
       "      <td>25860.0</td>\n",
       "      <td>39025.0</td>\n",
       "      <td>HomeImp</td>\n",
       "      <td>Other</td>\n",
       "      <td>10.5</td>\n",
       "      <td>0.0</td>\n",
       "      <td>0.0</td>\n",
       "      <td>94.366667</td>\n",
       "      <td>1.0</td>\n",
       "      <td>9.0</td>\n",
       "      <td>NaN</td>\n",
       "      <td>DEFAULT</td>\n",
       "    </tr>\n",
       "    <tr>\n",
       "      <th>1</th>\n",
       "      <td>1</td>\n",
       "      <td>1300</td>\n",
       "      <td>70053.0</td>\n",
       "      <td>68400.0</td>\n",
       "      <td>HomeImp</td>\n",
       "      <td>Other</td>\n",
       "      <td>7.0</td>\n",
       "      <td>0.0</td>\n",
       "      <td>2.0</td>\n",
       "      <td>121.833333</td>\n",
       "      <td>0.0</td>\n",
       "      <td>14.0</td>\n",
       "      <td>NaN</td>\n",
       "      <td>DEFAULT</td>\n",
       "    </tr>\n",
       "    <tr>\n",
       "      <th>2</th>\n",
       "      <td>1</td>\n",
       "      <td>1500</td>\n",
       "      <td>13500.0</td>\n",
       "      <td>16700.0</td>\n",
       "      <td>HomeImp</td>\n",
       "      <td>Other</td>\n",
       "      <td>4.0</td>\n",
       "      <td>0.0</td>\n",
       "      <td>0.0</td>\n",
       "      <td>149.466667</td>\n",
       "      <td>1.0</td>\n",
       "      <td>10.0</td>\n",
       "      <td>NaN</td>\n",
       "      <td>DEFAULT</td>\n",
       "    </tr>\n",
       "    <tr>\n",
       "      <th>3</th>\n",
       "      <td>1</td>\n",
       "      <td>1500</td>\n",
       "      <td>55650.0</td>\n",
       "      <td>64350.0</td>\n",
       "      <td>NaN</td>\n",
       "      <td>NaN</td>\n",
       "      <td>3.5</td>\n",
       "      <td>0.0</td>\n",
       "      <td>0.0</td>\n",
       "      <td>121.400000</td>\n",
       "      <td>0.5</td>\n",
       "      <td>12.0</td>\n",
       "      <td>NaN</td>\n",
       "      <td>DEFAULT</td>\n",
       "    </tr>\n",
       "    <tr>\n",
       "      <th>4</th>\n",
       "      <td>0</td>\n",
       "      <td>1700</td>\n",
       "      <td>97800.0</td>\n",
       "      <td>112000.0</td>\n",
       "      <td>HomeImp</td>\n",
       "      <td>Office</td>\n",
       "      <td>3.0</td>\n",
       "      <td>0.0</td>\n",
       "      <td>0.0</td>\n",
       "      <td>93.333333</td>\n",
       "      <td>0.0</td>\n",
       "      <td>14.0</td>\n",
       "      <td>NaN</td>\n",
       "      <td>PAID</td>\n",
       "    </tr>\n",
       "    <tr>\n",
       "      <th>5</th>\n",
       "      <td>1</td>\n",
       "      <td>1700</td>\n",
       "      <td>30548.0</td>\n",
       "      <td>40320.0</td>\n",
       "      <td>HomeImp</td>\n",
       "      <td>Other</td>\n",
       "      <td>9.0</td>\n",
       "      <td>0.0</td>\n",
       "      <td>0.0</td>\n",
       "      <td>101.466002</td>\n",
       "      <td>1.0</td>\n",
       "      <td>8.0</td>\n",
       "      <td>37.113614</td>\n",
       "      <td>DEFAULT</td>\n",
       "    </tr>\n",
       "    <tr>\n",
       "      <th>6</th>\n",
       "      <td>1</td>\n",
       "      <td>1800</td>\n",
       "      <td>48649.0</td>\n",
       "      <td>57037.0</td>\n",
       "      <td>HomeImp</td>\n",
       "      <td>Other</td>\n",
       "      <td>5.0</td>\n",
       "      <td>3.0</td>\n",
       "      <td>2.0</td>\n",
       "      <td>77.100000</td>\n",
       "      <td>1.0</td>\n",
       "      <td>17.0</td>\n",
       "      <td>36.999254</td>\n",
       "      <td>DEFAULT</td>\n",
       "    </tr>\n",
       "    <tr>\n",
       "      <th>7</th>\n",
       "      <td>1</td>\n",
       "      <td>1800</td>\n",
       "      <td>28502.0</td>\n",
       "      <td>43034.0</td>\n",
       "      <td>HomeImp</td>\n",
       "      <td>Other</td>\n",
       "      <td>11.0</td>\n",
       "      <td>0.0</td>\n",
       "      <td>0.0</td>\n",
       "      <td>88.766030</td>\n",
       "      <td>0.0</td>\n",
       "      <td>8.0</td>\n",
       "      <td>36.884894</td>\n",
       "      <td>DEFAULT</td>\n",
       "    </tr>\n",
       "    <tr>\n",
       "      <th>8</th>\n",
       "      <td>1</td>\n",
       "      <td>2000</td>\n",
       "      <td>32700.0</td>\n",
       "      <td>46740.0</td>\n",
       "      <td>HomeImp</td>\n",
       "      <td>Other</td>\n",
       "      <td>3.0</td>\n",
       "      <td>0.0</td>\n",
       "      <td>2.0</td>\n",
       "      <td>216.933333</td>\n",
       "      <td>1.0</td>\n",
       "      <td>12.0</td>\n",
       "      <td>33.567536</td>\n",
       "      <td>DEFAULT</td>\n",
       "    </tr>\n",
       "    <tr>\n",
       "      <th>9</th>\n",
       "      <td>1</td>\n",
       "      <td>2000</td>\n",
       "      <td>27654.0</td>\n",
       "      <td>62250.0</td>\n",
       "      <td>HomeImp</td>\n",
       "      <td>Sales</td>\n",
       "      <td>16.0</td>\n",
       "      <td>0.0</td>\n",
       "      <td>0.0</td>\n",
       "      <td>115.800000</td>\n",
       "      <td>0.0</td>\n",
       "      <td>13.0</td>\n",
       "      <td>30.250178</td>\n",
       "      <td>DEFAULT</td>\n",
       "    </tr>\n",
       "  </tbody>\n",
       "</table>\n",
       "</div>"
      ],
      "text/plain": [
       "   BAD  LOAN  MORTDUE     VALUE   REASON     JOB   YOJ  DEROG  DELINQ  \\\n",
       "0    1  1100  25860.0   39025.0  HomeImp   Other  10.5    0.0     0.0   \n",
       "1    1  1300  70053.0   68400.0  HomeImp   Other   7.0    0.0     2.0   \n",
       "2    1  1500  13500.0   16700.0  HomeImp   Other   4.0    0.0     0.0   \n",
       "3    1  1500  55650.0   64350.0      NaN     NaN   3.5    0.0     0.0   \n",
       "4    0  1700  97800.0  112000.0  HomeImp  Office   3.0    0.0     0.0   \n",
       "5    1  1700  30548.0   40320.0  HomeImp   Other   9.0    0.0     0.0   \n",
       "6    1  1800  48649.0   57037.0  HomeImp   Other   5.0    3.0     2.0   \n",
       "7    1  1800  28502.0   43034.0  HomeImp   Other  11.0    0.0     0.0   \n",
       "8    1  2000  32700.0   46740.0  HomeImp   Other   3.0    0.0     2.0   \n",
       "9    1  2000  27654.0   62250.0  HomeImp   Sales  16.0    0.0     0.0   \n",
       "\n",
       "        CLAGE  NINQ  CLNO    DEBTINC   STATUS  \n",
       "0   94.366667   1.0   9.0        NaN  DEFAULT  \n",
       "1  121.833333   0.0  14.0        NaN  DEFAULT  \n",
       "2  149.466667   1.0  10.0        NaN  DEFAULT  \n",
       "3  121.400000   0.5  12.0        NaN  DEFAULT  \n",
       "4   93.333333   0.0  14.0        NaN     PAID  \n",
       "5  101.466002   1.0   8.0  37.113614  DEFAULT  \n",
       "6   77.100000   1.0  17.0  36.999254  DEFAULT  \n",
       "7   88.766030   0.0   8.0  36.884894  DEFAULT  \n",
       "8  216.933333   1.0  12.0  33.567536  DEFAULT  \n",
       "9  115.800000   0.0  13.0  30.250178  DEFAULT  "
      ]
     },
     "execution_count": 15,
     "metadata": {},
     "output_type": "execute_result"
    }
   ],
   "source": [
    "new_df.head(10)"
   ]
  },
  {
   "cell_type": "code",
   "execution_count": 16,
   "id": "9977353e",
   "metadata": {},
   "outputs": [
    {
     "data": {
      "text/plain": [
       "BAD          0\n",
       "LOAN         0\n",
       "MORTDUE      0\n",
       "VALUE        0\n",
       "REASON     252\n",
       "JOB        279\n",
       "YOJ          0\n",
       "DEROG        0\n",
       "DELINQ       0\n",
       "CLAGE        0\n",
       "NINQ         0\n",
       "CLNO         0\n",
       "DEBTINC      5\n",
       "STATUS       0\n",
       "dtype: int64"
      ]
     },
     "execution_count": 16,
     "metadata": {},
     "output_type": "execute_result"
    }
   ],
   "source": [
    "new_df.isnull().sum()"
   ]
  },
  {
   "cell_type": "code",
   "execution_count": 17,
   "id": "7d6a3e53",
   "metadata": {},
   "outputs": [],
   "source": [
    "new_df = new_df.fillna(new_df.mode().iloc[0])"
   ]
  },
  {
   "cell_type": "code",
   "execution_count": 18,
   "id": "94297d24",
   "metadata": {},
   "outputs": [
    {
     "data": {
      "text/plain": [
       "BAD        0\n",
       "LOAN       0\n",
       "MORTDUE    0\n",
       "VALUE      0\n",
       "REASON     0\n",
       "JOB        0\n",
       "YOJ        0\n",
       "DEROG      0\n",
       "DELINQ     0\n",
       "CLAGE      0\n",
       "NINQ       0\n",
       "CLNO       0\n",
       "DEBTINC    0\n",
       "STATUS     0\n",
       "dtype: int64"
      ]
     },
     "execution_count": 18,
     "metadata": {},
     "output_type": "execute_result"
    }
   ],
   "source": [
    "new_df.isnull().sum()"
   ]
  },
  {
   "cell_type": "code",
   "execution_count": 42,
   "id": "c7559bd6",
   "metadata": {},
   "outputs": [],
   "source": [
    "from sklearn.preprocessing import LabelEncoder\n",
    "from sklearn.model_selection import train_test_split\n",
    "from sklearn.linear_model import LogisticRegression\n",
    "from sklearn.ensemble import RandomForestClassifier\n",
    "from sklearn.naive_bayes import GaussianNB\n",
    "from sklearn.metrics import accuracy_score, confusion_matrix\n"
   ]
  },
  {
   "cell_type": "markdown",
   "id": "27beddf8",
   "metadata": {},
   "source": [
    "<b>Transforming categorical variables</b>"
   ]
  },
  {
   "cell_type": "code",
   "execution_count": 20,
   "id": "2514d3a8",
   "metadata": {},
   "outputs": [],
   "source": [
    "def categorical_variables(df):\n",
    "    object_cols = ['REASON', 'JOB']\n",
    "    label_encoder = LabelEncoder()\n",
    "    for col in object_cols:\n",
    "        df[col] = label_encoder.fit_transform(df[col])\n",
    "    return df"
   ]
  },
  {
   "cell_type": "code",
   "execution_count": 21,
   "id": "0b444467",
   "metadata": {},
   "outputs": [],
   "source": [
    "credit_df = categorical_variables(new_df)"
   ]
  },
  {
   "cell_type": "code",
   "execution_count": 22,
   "id": "4c109534",
   "metadata": {},
   "outputs": [],
   "source": [
    "credit_df = credit_df.drop('STATUS',axis = 1)"
   ]
  },
  {
   "cell_type": "code",
   "execution_count": 23,
   "id": "7e8d2bd1",
   "metadata": {},
   "outputs": [
    {
     "name": "stdout",
     "output_type": "stream",
     "text": [
      "<class 'pandas.core.frame.DataFrame'>\n",
      "RangeIndex: 5960 entries, 0 to 5959\n",
      "Data columns (total 13 columns):\n",
      " #   Column   Non-Null Count  Dtype  \n",
      "---  ------   --------------  -----  \n",
      " 0   BAD      5960 non-null   int64  \n",
      " 1   LOAN     5960 non-null   int64  \n",
      " 2   MORTDUE  5960 non-null   float64\n",
      " 3   VALUE    5960 non-null   float64\n",
      " 4   REASON   5960 non-null   int32  \n",
      " 5   JOB      5960 non-null   int32  \n",
      " 6   YOJ      5960 non-null   float64\n",
      " 7   DEROG    5960 non-null   float64\n",
      " 8   DELINQ   5960 non-null   float64\n",
      " 9   CLAGE    5960 non-null   float64\n",
      " 10  NINQ     5960 non-null   float64\n",
      " 11  CLNO     5960 non-null   float64\n",
      " 12  DEBTINC  5960 non-null   float64\n",
      "dtypes: float64(9), int32(2), int64(2)\n",
      "memory usage: 558.9 KB\n"
     ]
    }
   ],
   "source": [
    "credit_df.info()"
   ]
  },
  {
   "cell_type": "markdown",
   "id": "9950f1d9",
   "metadata": {},
   "source": [
    "<b>Applying Train Test Split</b>"
   ]
  },
  {
   "cell_type": "code",
   "execution_count": 24,
   "id": "5cb4a617",
   "metadata": {},
   "outputs": [
    {
     "name": "stdout",
     "output_type": "stream",
     "text": [
      "[1 1 1 ... 0 0 0]\n"
     ]
    }
   ],
   "source": [
    "y = credit_df['BAD'].values\n",
    "print(y)"
   ]
  },
  {
   "cell_type": "code",
   "execution_count": 25,
   "id": "3014ec7c",
   "metadata": {},
   "outputs": [
    {
     "name": "stdout",
     "output_type": "stream",
     "text": [
      "[[1.10000000e+03 2.58600000e+04 3.90250000e+04 ... 1.00000000e+00\n",
      "  9.00000000e+00 5.24499215e-01]\n",
      " [1.30000000e+03 7.00530000e+04 6.84000000e+04 ... 0.00000000e+00\n",
      "  1.40000000e+01 5.24499215e-01]\n",
      " [1.50000000e+03 1.35000000e+04 1.67000000e+04 ... 1.00000000e+00\n",
      "  1.00000000e+01 5.24499215e-01]\n",
      " ...\n",
      " [8.92000000e+04 5.40450000e+04 9.29240000e+04 ... 0.00000000e+00\n",
      "  1.50000000e+01 3.55565905e+01]\n",
      " [8.98000000e+04 5.03700000e+04 9.18610000e+04 ... 0.00000000e+00\n",
      "  1.60000000e+01 3.43408824e+01]\n",
      " [8.99000000e+04 4.88110000e+04 8.89340000e+04 ... 0.00000000e+00\n",
      "  1.60000000e+01 3.45715191e+01]]\n"
     ]
    }
   ],
   "source": [
    "x_df = credit_df.drop('BAD', axis = 1)\n",
    "x = x_df.values\n",
    "print(x)"
   ]
  },
  {
   "cell_type": "code",
   "execution_count": 26,
   "id": "1a181ca7",
   "metadata": {},
   "outputs": [],
   "source": [
    "X_train, X_test, Y_train, y_test = train_test_split(x, y, train_size=0.8)"
   ]
  },
  {
   "cell_type": "code",
   "execution_count": 27,
   "id": "e8654fac",
   "metadata": {},
   "outputs": [
    {
     "name": "stdout",
     "output_type": "stream",
     "text": [
      "X_train size (4768, 12),X_test: (1192, 12), Y_train: (4768,), Y_test (1192,)\n"
     ]
    }
   ],
   "source": [
    "print(f'X_train size {X_train.shape},X_test: {X_test.shape}, Y_train: {Y_train.shape}, Y_test {y_test.shape}')"
   ]
  },
  {
   "cell_type": "markdown",
   "id": "f0055ba2",
   "metadata": {},
   "source": [
    "<b>Machine Learning Model - Logistic Regression</b>"
   ]
  },
  {
   "cell_type": "code",
   "execution_count": 28,
   "id": "7f9cc96d",
   "metadata": {},
   "outputs": [
    {
     "data": {
      "text/plain": [
       "LogisticRegression()"
      ]
     },
     "execution_count": 28,
     "metadata": {},
     "output_type": "execute_result"
    }
   ],
   "source": [
    "regression_model = LogisticRegression()\n",
    "regression_model.fit(X_train, Y_train)"
   ]
  },
  {
   "cell_type": "code",
   "execution_count": 29,
   "id": "ea47b877",
   "metadata": {},
   "outputs": [
    {
     "data": {
      "text/plain": [
       "0.799496644295302"
      ]
     },
     "execution_count": 29,
     "metadata": {},
     "output_type": "execute_result"
    }
   ],
   "source": [
    "regression_model.score(X_train, Y_train)"
   ]
  },
  {
   "cell_type": "code",
   "execution_count": 30,
   "id": "0c5f7a9e",
   "metadata": {},
   "outputs": [
    {
     "data": {
      "text/plain": [
       "array([0, 0, 0, ..., 0, 0, 0], dtype=int64)"
      ]
     },
     "execution_count": 30,
     "metadata": {},
     "output_type": "execute_result"
    }
   ],
   "source": [
    "regression_model.predict(X_test)"
   ]
  },
  {
   "cell_type": "code",
   "execution_count": 31,
   "id": "d247ed46",
   "metadata": {},
   "outputs": [],
   "source": [
    "regression_model_predict = regression_model.predict(X_test)"
   ]
  },
  {
   "cell_type": "code",
   "execution_count": 32,
   "id": "a57a349f",
   "metadata": {},
   "outputs": [
    {
     "data": {
      "text/plain": [
       "0.8045302013422819"
      ]
     },
     "execution_count": 32,
     "metadata": {},
     "output_type": "execute_result"
    }
   ],
   "source": [
    "regression_model.score(X_test, y_test)"
   ]
  },
  {
   "cell_type": "code",
   "execution_count": 33,
   "id": "d3818351",
   "metadata": {},
   "outputs": [
    {
     "name": "stdout",
     "output_type": "stream",
     "text": [
      "Accuracy predict: 80.45%\n"
     ]
    }
   ],
   "source": [
    "accuracy = accuracy_score(y_test, regression_model_predict)\n",
    "print('Accuracy predict: %.2f%%' % (accuracy * 100.0))"
   ]
  },
  {
   "cell_type": "code",
   "execution_count": 34,
   "id": "fd8e23fa",
   "metadata": {},
   "outputs": [
    {
     "data": {
      "image/png": "[encoded data removed]",
      "text/plain": [
       "<Figure size 700x500 with 2 Axes>"
      ]
     },
     "metadata": {},
     "output_type": "display_data"
    }
   ],
   "source": [
    "plt.figure(figsize=(7,5))\n",
    "\n",
    "sns.heatmap(confusion_matrix(y_test,regression_model_predict), annot=True, cmap='Blues', fmt='g')\n",
    "\n",
    "plt.title(\"Confusion Matrix\", fontsize=14, fontweight='bold')\n",
    "\n",
    "plt.show()"
   ]
  },
  {
   "cell_type": "code",
   "execution_count": 35,
   "id": "6941b021",
   "metadata": {},
   "outputs": [
    {
     "data": {
      "text/plain": [
       "array([1], dtype=int64)"
      ]
     },
     "execution_count": 35,
     "metadata": {},
     "output_type": "execute_result"
    }
   ],
   "source": [
    "regression_model.predict([[2,1,3,9,0,0,3,5,3,4,8,7]])"
   ]
  },
  {
   "cell_type": "code",
   "execution_count": 36,
   "id": "b61d3d70",
   "metadata": {},
   "outputs": [
    {
     "data": {
      "text/plain": [
       "array([0], dtype=int64)"
      ]
     },
     "execution_count": 36,
     "metadata": {},
     "output_type": "execute_result"
    }
   ],
   "source": [
    "regression_model.predict([[8440,89000,91021,1,3,10.5,2,3,215,2,12,42]])"
   ]
  },
  {
   "cell_type": "markdown",
   "id": "cc148fbf",
   "metadata": {},
   "source": [
    "<b>Machine Learning Model - Random Forest</b> "
   ]
  },
  {
   "cell_type": "code",
   "execution_count": 37,
   "id": "60299a8a",
   "metadata": {},
   "outputs": [
    {
     "data": {
      "text/plain": [
       "RandomForestClassifier()"
      ]
     },
     "execution_count": 37,
     "metadata": {},
     "output_type": "execute_result"
    }
   ],
   "source": [
    "rfc_model= RandomForestClassifier()\n",
    "rfc_model.fit(X_train, Y_train)"
   ]
  },
  {
   "cell_type": "code",
   "execution_count": 38,
   "id": "83992e54",
   "metadata": {},
   "outputs": [],
   "source": [
    "rfc_model_predict = rfc_model.predict(X_test)"
   ]
  },
  {
   "cell_type": "code",
   "execution_count": 39,
   "id": "118bddc4",
   "metadata": {},
   "outputs": [
    {
     "data": {
      "text/plain": [
       "0.9085570469798657"
      ]
     },
     "execution_count": 39,
     "metadata": {},
     "output_type": "execute_result"
    }
   ],
   "source": [
    "rfc_model.score(X_test, y_test)"
   ]
  },
  {
   "cell_type": "code",
   "execution_count": 40,
   "id": "715aa340",
   "metadata": {},
   "outputs": [
    {
     "name": "stdout",
     "output_type": "stream",
     "text": [
      "Accuracy predict: 90.86%\n"
     ]
    }
   ],
   "source": [
    "accuracy = accuracy_score(y_test, rfc_model_predict)\n",
    "print('Accuracy predict: %.2f%%' % (accuracy * 100.0))"
   ]
  },
  {
   "cell_type": "code",
   "execution_count": 41,
   "id": "d2d87daa",
   "metadata": {},
   "outputs": [
    {
     "data": {
      "image/png": "[encoded data removed]",
      "text/plain": [
       "<Figure size 700x500 with 2 Axes>"
      ]
     },
     "metadata": {},
     "output_type": "display_data"
    }
   ],
   "source": [
    "plt.figure(figsize=(7,5))\n",
    "\n",
    "sns.heatmap(confusion_matrix(y_test,rfc_model_predict), annot=True, cmap='Blues', fmt='g')\n",
    "\n",
    "plt.title(\"Confusion Matrix\", fontsize=14, fontweight='bold')\n",
    "\n",
    "plt.show()"
   ]
  },
  {
   "cell_type": "markdown",
   "id": "76b4f258",
   "metadata": {},
   "source": [
    "<b>Machine Learning Model - Naive Bayes Gaussian</b>"
   ]
  },
  {
   "cell_type": "code",
   "execution_count": 43,
   "id": "5ede9ae3",
   "metadata": {},
   "outputs": [
    {
     "data": {
      "text/plain": [
       "GaussianNB()"
      ]
     },
     "execution_count": 43,
     "metadata": {},
     "output_type": "execute_result"
    }
   ],
   "source": [
    "nbg_model= GaussianNB()\n",
    "nbg_model.fit(X_train, Y_train)"
   ]
  },
  {
   "cell_type": "code",
   "execution_count": 44,
   "id": "cba5940b",
   "metadata": {},
   "outputs": [],
   "source": [
    "nbg_model_predict = nbg_model.predict(X_test)"
   ]
  },
  {
   "cell_type": "code",
   "execution_count": 46,
   "id": "1662b99d",
   "metadata": {},
   "outputs": [
    {
     "data": {
      "text/plain": [
       "0.8154362416107382"
      ]
     },
     "execution_count": 46,
     "metadata": {},
     "output_type": "execute_result"
    }
   ],
   "source": [
    "nbg_model.score(X_test, y_test)"
   ]
  },
  {
   "cell_type": "code",
   "execution_count": 47,
   "id": "001749b4",
   "metadata": {},
   "outputs": [
    {
     "name": "stdout",
     "output_type": "stream",
     "text": [
      "Accuracy predict: 81.54%\n"
     ]
    }
   ],
   "source": [
    "accuracy = accuracy_score(y_test, nbg_model_predict)\n",
    "print('Accuracy predict: %.2f%%' % (accuracy * 100.0))"
   ]
  },
  {
   "cell_type": "code",
   "execution_count": 48,
   "id": "c7168f23",
   "metadata": {},
   "outputs": [
    {
     "data": {
      "image/png": "[encoded data removed]",
      "text/plain": [
       "<Figure size 700x500 with 2 Axes>"
      ]
     },
     "metadata": {},
     "output_type": "display_data"
    }
   ],
   "source": [
    "plt.figure(figsize=(7,5))\n",
    "\n",
    "sns.heatmap(confusion_matrix(y_test,nbg_model_predict), annot=True, cmap='Blues', fmt='g')\n",
    "\n",
    "plt.title(\"Confusion Matrix\", fontsize=14, fontweight='bold')\n",
    "\n",
    "plt.show()"
   ]
  },
  {
   "cell_type": "code",
   "execution_count": null,
   "id": "33a9e54e",
   "metadata": {},
   "outputs": [],
   "source": []
  }
 ],
 "metadata": {
  "kernelspec": {
   "display_name": "Python 3 (ipykernel)",
   "language": "python",
   "name": "python3"
  },
  "language_info": {
   "codemirror_mode": {
    "name": "ipython",
    "version": 3
   },
   "file_extension": ".py",
   "mimetype": "text/x-python",
   "name": "python",
   "nbconvert_exporter": "python",
   "pygments_lexer": "ipython3",
   "version": "3.9.13"
  }
 },
 "nbformat": 4,
 "nbformat_minor": 5
}
